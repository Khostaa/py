{
  "nbformat": 4,
  "nbformat_minor": 0,
  "metadata": {
    "colab": {
      "provenance": []
    },
    "kernelspec": {
      "name": "python3",
      "display_name": "Python 3"
    },
    "language_info": {
      "name": "python"
    }
  },
  "cells": [
    {
      "cell_type": "code",
      "metadata": {
        "colab": {
          "base_uri": "https://localhost:8080/"
        },
        "id": "kJLK3nN0V4pA",
        "outputId": "9ab54503-f609-4ee8-d1ae-b9700554074b"
      },
      "source": [
        "i=1\n",
        "while i<=7:\n",
        "  print(\"hello world!\")\n",
        "  i+=1"
      ],
      "execution_count": null,
      "outputs": [
        {
          "output_type": "stream",
          "text": [
            "hello world!\n",
            "hello world!\n",
            "hello world!\n",
            "hello world!\n",
            "hello world!\n",
            "hello world!\n",
            "hello world!\n"
          ],
          "name": "stdout"
        }
      ]
    },
    {
      "cell_type": "code",
      "metadata": {
        "id": "q219-kiEYzQo",
        "colab": {
          "base_uri": "https://localhost:8080/"
        },
        "outputId": "c55654e9-84d0-45c0-d49c-4cc567dac68d"
      },
      "source": [
        "i=1\n",
        "while i<=7:\n",
        "  print(\"hello world!\")\n",
        "  if i==5:\n",
        "    break\n",
        "  i+=1"
      ],
      "execution_count": null,
      "outputs": [
        {
          "output_type": "stream",
          "text": [
            "hello world!\n",
            "hello world!\n",
            "hello world!\n",
            "hello world!\n",
            "hello world!\n"
          ],
          "name": "stdout"
        }
      ]
    },
    {
      "cell_type": "code",
      "metadata": {
        "id": "_Px0NKc-WVHK",
        "colab": {
          "base_uri": "https://localhost:8080/"
        },
        "outputId": "b39620e0-b6be-4c77-bffa-199648641440"
      },
      "source": [
        "selection ='y'\n",
        "while(selection=='y'or selection=='Y'):\n",
        "  name=input(\"Enter your name:\")\n",
        "  selection=input(\"Enter your selection y/n:\")\n",
        "print(\"Loop Ended\")\n"
      ],
      "execution_count": null,
      "outputs": [
        {
          "output_type": "stream",
          "text": [
            "Enter your name:Sunil\n",
            "Enter your selection y/n:y\n",
            "Enter your name:sunil\n",
            "Enter your selection y/n:y\n",
            "Enter your name:sunil\n",
            "Enter your selection y/n:m\n",
            "Loop Ended\n"
          ],
          "name": "stdout"
        }
      ]
    },
    {
      "cell_type": "code",
      "metadata": {
        "colab": {
          "base_uri": "https://localhost:8080/"
        },
        "id": "RUyGNdLGcUv4",
        "outputId": "81019f09-cef0-417a-e56a-2bfaa73e0f28"
      },
      "source": [
        "i=1\n",
        "while i<=5:\n",
        "  print(\"hello\",end =\" \")\n",
        "  j=1\n",
        "  while j<=3:\n",
        "    print(\"world\", end=\" \")\n",
        "    j=j+1\n",
        "  print(\" \")\n",
        "  \n",
        "  i+=1\n",
        "\n",
        "\n",
        "\n",
        "\n",
        "\n",
        "\n"
      ],
      "execution_count": null,
      "outputs": [
        {
          "output_type": "stream",
          "text": [
            "hello world world world  \n",
            "hello world world world  \n",
            "hello world world world  \n",
            "hello world world world  \n",
            "hello world world world  \n"
          ],
          "name": "stdout"
        }
      ]
    },
    {
      "cell_type": "code",
      "metadata": {
        "colab": {
          "base_uri": "https://localhost:8080/"
        },
        "id": "oyp7LnusglEV",
        "outputId": "fc4d75ce-738c-4f07-9f6d-b78e0219f3ef"
      },
      "source": [
        "i=1\n",
        "while i<=5:\n",
        " print(\"hello\",end=\" \") #end at last with space as value prints output in same line with space\n",
        " i+=1"
      ],
      "execution_count": null,
      "outputs": [
        {
          "output_type": "stream",
          "text": [
            "hello hello hello hello hello "
          ],
          "name": "stdout"
        }
      ]
    },
    {
      "cell_type": "code",
      "metadata": {
        "colab": {
          "base_uri": "https://localhost:8080/"
        },
        "id": "tiL4CHa6hGkb",
        "outputId": "40144f85-23fa-4bf5-98ea-e3c0129999ab"
      },
      "source": [
        "#for loop\n",
        "item= ('you','before','me')\n",
        "for i in item:\n",
        "  print(i,end=' ')"
      ],
      "execution_count": null,
      "outputs": [
        {
          "output_type": "stream",
          "text": [
            "you before me "
          ],
          "name": "stdout"
        }
      ]
    },
    {
      "cell_type": "code",
      "metadata": {
        "colab": {
          "base_uri": "https://localhost:8080/"
        },
        "id": "QzZPzD5kiC1s",
        "outputId": "419ea7ab-a814-4730-f9f8-3ecd29814e05"
      },
      "source": [
        "for i in range(1,5):\n",
        " print(i)"
      ],
      "execution_count": null,
      "outputs": [
        {
          "output_type": "stream",
          "text": [
            "1\n",
            "2\n",
            "3\n",
            "4\n"
          ],
          "name": "stdout"
        }
      ]
    },
    {
      "cell_type": "code",
      "metadata": {
        "colab": {
          "base_uri": "https://localhost:8080/"
        },
        "id": "beHNK6dDik7z",
        "outputId": "08f6c580-2887-4f64-e8ed-b054491922d5"
      },
      "source": [
        "for i in range(5):\n",
        " print(i)"
      ],
      "execution_count": null,
      "outputs": [
        {
          "output_type": "stream",
          "text": [
            "0\n",
            "1\n",
            "2\n",
            "3\n",
            "4\n"
          ],
          "name": "stdout"
        }
      ]
    },
    {
      "cell_type": "code",
      "metadata": {
        "colab": {
          "base_uri": "https://localhost:8080/"
        },
        "id": "Zp7cEpCaiw-M",
        "outputId": "db411b80-4573-4d49-f5ad-365ade143de2"
      },
      "source": [
        "for i in range(1,30):\n",
        "  if i%3 ==0:\n",
        "    continue      #continue skips to a next iteration\n",
        "  print(i,end=\" \")\n",
        "print(\"bye\")"
      ],
      "execution_count": null,
      "outputs": [
        {
          "output_type": "stream",
          "text": [
            "1 2 4 5 7 8 10 11 13 14 16 17 19 20 22 23 25 26 28 29 bye\n"
          ],
          "name": "stdout"
        }
      ]
    },
    {
      "cell_type": "code",
      "metadata": {
        "colab": {
          "base_uri": "https://localhost:8080/"
        },
        "id": "J1qszfNzliU1",
        "outputId": "8f9b33c7-2d08-4570-89ad-4c9f8303173e"
      },
      "source": [
        "list = ('apple','ball','cat','dog')\n",
        "for i in list:\n",
        " print(i)"
      ],
      "execution_count": null,
      "outputs": [
        {
          "output_type": "stream",
          "text": [
            "apple\n",
            "ball\n",
            "cat\n",
            "dog\n"
          ],
          "name": "stdout"
        }
      ]
    },
    {
      "cell_type": "code",
      "metadata": {
        "colab": {
          "base_uri": "https://localhost:8080/"
        },
        "id": "NZDvH-EqnR77",
        "outputId": "4030efcb-2984-4ac8-c46f-b6a7415f3234"
      },
      "source": [
        "list = ('apple','ball','cat','dog')\n",
        "for i in list:\n",
        "  if i == \"cat\":\n",
        "     break\n",
        "  print(i)"
      ],
      "execution_count": null,
      "outputs": [
        {
          "output_type": "stream",
          "text": [
            "apple\n",
            "ball\n"
          ],
          "name": "stdout"
        }
      ]
    },
    {
      "cell_type": "code",
      "metadata": {
        "colab": {
          "base_uri": "https://localhost:8080/"
        },
        "id": "3cvl7ey2qMIj",
        "outputId": "78b705da-e0c3-4b0c-c24c-b8a6ed06993e"
      },
      "source": [
        "for i in range (1,10,2):\n",
        "  print(i)"
      ],
      "execution_count": null,
      "outputs": [
        {
          "output_type": "stream",
          "text": [
            "1\n",
            "3\n",
            "5\n",
            "7\n",
            "9\n"
          ],
          "name": "stdout"
        }
      ]
    },
    {
      "cell_type": "code",
      "metadata": {
        "colab": {
          "base_uri": "https://localhost:8080/"
        },
        "id": "OP3MpKc6rzFx",
        "outputId": "622645a6-c40c-4f1f-c031-1ddbb8ec2e8d"
      },
      "source": [
        "for i in range(5):\n",
        "  print(\"hello world world world\")"
      ],
      "execution_count": null,
      "outputs": [
        {
          "output_type": "stream",
          "text": [
            "hello world world world\n",
            "hello world world world\n",
            "hello world world world\n",
            "hello world world world\n",
            "hello world world world\n"
          ],
          "name": "stdout"
        }
      ]
    },
    {
      "cell_type": "code",
      "metadata": {
        "colab": {
          "base_uri": "https://localhost:8080/"
        },
        "id": "ySds8WMYtwQq",
        "outputId": "802ffc5b-bc82-4d5b-a823-88303e7afad6"
      },
      "source": [
        "for i in range(5):\n",
        "  print(\"hello\",end=' ')\n",
        "  for j in range(3):\n",
        "    print(\"world\",end=' ')\n",
        "  print(\"\\n\")"
      ],
      "execution_count": null,
      "outputs": [
        {
          "output_type": "stream",
          "text": [
            "hello world world world \n",
            "\n",
            "hello world world world \n",
            "\n",
            "hello world world world \n",
            "\n",
            "hello world world world \n",
            "\n",
            "hello world world world \n",
            "\n"
          ],
          "name": "stdout"
        }
      ]
    },
    {
      "cell_type": "code",
      "metadata": {
        "id": "sidIt--ru6pI"
      },
      "source": [],
      "execution_count": null,
      "outputs": []
    }
  ]
}