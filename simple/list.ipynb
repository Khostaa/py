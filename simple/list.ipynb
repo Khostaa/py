{
  "nbformat": 4,
  "nbformat_minor": 0,
  "metadata": {
    "colab": {
      "provenance": []
    },
    "kernelspec": {
      "name": "python3",
      "display_name": "Python 3"
    },
    "language_info": {
      "name": "python"
    }
  },
  "cells": [
    {
      "cell_type": "code",
      "metadata": {
        "colab": {
          "base_uri": "https://localhost:8080/"
        },
        "id": "tFPdImQhH4fG",
        "outputId": "93f49e16-cb4e-4c6d-cc64-47da68c3e941"
      },
      "source": [
        "list_var= [\"a\", 1, \"sunil\"]\n",
        "print(list_var)\n",
        "list_var.append(\"programming\") #adds programming to the list\n",
        "print(list_var)\n",
        "list_var.remove(1)  #removes 1 from the list\n",
        "print(list_var)\n",
        "list_var[0]=\"Khosta\"   # replaces value with index 0 in list with Khosta\n",
        "print(list_var)\n",
        "list_var.remove(list_var[1])     #removes value with index 1 from the list\n",
        "print(list_var)\n",
        "print(len(list_var))     #len prints the no. of variables in the list\n",
        "list_var.clear()         #.clear removes everything from the list\n",
        "print(list_var)\n",
        "print(len(list_var))\n",
        "\n"
      ],
      "execution_count": null,
      "outputs": [
        {
          "output_type": "stream",
          "text": [
            "['a', 1, 'sunil']\n",
            "['a', 1, 'sunil', 'programming']\n",
            "['a', 'sunil', 'programming']\n",
            "['Khosta', 'sunil', 'programming']\n",
            "['Khosta', 'programming']\n",
            "2\n",
            "[]\n",
            "0\n"
          ],
          "name": "stdout"
        }
      ]
    },
    {
      "cell_type": "code",
      "metadata": {
        "id": "EAXThEK8REKd"
      },
      "source": [
        "typo[\"a\"]"
      ],
      "execution_count": null,
      "outputs": []
    }
  ]
}