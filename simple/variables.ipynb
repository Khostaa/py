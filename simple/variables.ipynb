{
  "nbformat": 4,
  "nbformat_minor": 0,
  "metadata": {
    "colab": {
      "provenance": []
    },
    "kernelspec": {
      "display_name": "Python 3",
      "name": "python3"
    },
    "language_info": {
      "name": "python"
    }
  },
  "cells": [
    {
      "cell_type": "code",
      "metadata": {
        "colab": {
          "base_uri": "https://localhost:8080/"
        },
        "id": "KYdlLS_Elopx",
        "outputId": "15c6df86-da89-498f-e0ae-9647eec299f4"
      },
      "source": [
        "a=19\n",
        "\n",
        "b=8\n",
        "\n",
        "print(a%b)"
      ],
      "execution_count": null,
      "outputs": [
        {
          "output_type": "stream",
          "text": [
            "3\n"
          ],
          "name": "stdout"
        }
      ]
    },
    {
      "cell_type": "code",
      "metadata": {
        "colab": {
          "base_uri": "https://localhost:8080/"
        },
        "id": "m6XmTSEeMKyt",
        "outputId": "57b08667-0080-4cd8-9864-6707bf1b486a"
      },
      "source": [
        "x=3\n",
        "print(x)"
      ],
      "execution_count": null,
      "outputs": [
        {
          "output_type": "stream",
          "text": [
            "3\n",
            "3\n"
          ],
          "name": "stdout"
        }
      ]
    },
    {
      "cell_type": "code",
      "metadata": {
        "colab": {
          "base_uri": "https://localhost:8080/"
        },
        "id": "XkKoOSy4Md0q",
        "outputId": "14a0fefd-3e81-422c-b6ae-b0a67de8f331"
      },
      "source": [
        "x=6\n",
        "print(type(x))"
      ],
      "execution_count": null,
      "outputs": [
        {
          "output_type": "stream",
          "text": [
            "<class 'int'>\n"
          ],
          "name": "stdout"
        }
      ]
    },
    {
      "cell_type": "code",
      "metadata": {
        "colab": {
          "base_uri": "https://localhost:8080/"
        },
        "id": "TwOHIrIPMkUL",
        "outputId": "5d37ce2f-7119-43d3-f61c-868e0cfb128b"
      },
      "source": [
        "x=8.2\n",
        "print(x)\n",
        "print(type(x))"
      ],
      "execution_count": null,
      "outputs": [
        {
          "output_type": "stream",
          "text": [
            "8.2\n",
            "<class 'float'>\n"
          ],
          "name": "stdout"
        }
      ]
    },
    {
      "cell_type": "code",
      "metadata": {
        "colab": {
          "base_uri": "https://localhost:8080/"
        },
        "id": "Q9JbJE9eMrUr",
        "outputId": "3a18b734-3cc1-4966-e44f-745f4a261cc2"
      },
      "source": [
        "x=3+7j\n",
        "print(x)\n",
        "print(type(x))"
      ],
      "execution_count": null,
      "outputs": [
        {
          "output_type": "stream",
          "text": [
            "(3+7j)\n",
            "<class 'complex'>\n"
          ],
          "name": "stdout"
        }
      ]
    },
    {
      "cell_type": "code",
      "metadata": {
        "colab": {
          "base_uri": "https://localhost:8080/"
        },
        "id": "eilzmrZwMyGD",
        "outputId": "2df1ea8a-fda2-4355-9230-6872caa4af44"
      },
      "source": [
        "x=\"Buddha was born in nepal\"\n",
        "print(x)\n",
        "print(type(x))"
      ],
      "execution_count": null,
      "outputs": [
        {
          "output_type": "stream",
          "text": [
            "Buddha was born in nepal\n",
            "<class 'str'>\n"
          ],
          "name": "stdout"
        }
      ]
    },
    {
      "cell_type": "code",
      "metadata": {
        "colab": {
          "base_uri": "https://localhost:8080/"
        },
        "id": "rzHp45gmM9OW",
        "outputId": "5ce8efd6-6f8a-4a1a-99ce-31278504b896"
      },
      "source": [
        "z=\"3\"\n",
        "print(z)\n",
        "print(type(z))"
      ],
      "execution_count": null,
      "outputs": [
        {
          "output_type": "stream",
          "text": [
            "3\n",
            "<class 'str'>\n"
          ],
          "name": "stdout"
        }
      ]
    },
    {
      "cell_type": "code",
      "metadata": {
        "colab": {
          "base_uri": "https://localhost:8080/"
        },
        "id": "wp0YMmWlNFHV",
        "outputId": "35a411cb-0372-45c9-a5ad-b2db35e363f6"
      },
      "source": [
        "x=3<8\n",
        "print(x)\n",
        "print(type(x))"
      ],
      "execution_count": null,
      "outputs": [
        {
          "output_type": "stream",
          "text": [
            "True\n",
            "<class 'bool'>\n"
          ],
          "name": "stdout"
        }
      ]
    },
    {
      "cell_type": "code",
      "metadata": {
        "colab": {
          "base_uri": "https://localhost:8080/"
        },
        "id": "5H4Hfgh2NNuc",
        "outputId": "f6c2673f-5dd3-4d5c-e90b-d1a2ddb81392"
      },
      "source": [
        "y=2<1\n",
        "print(y)\n",
        "print(type(y))"
      ],
      "execution_count": null,
      "outputs": [
        {
          "output_type": "stream",
          "text": [
            "False\n",
            "<class 'bool'>\n"
          ],
          "name": "stdout"
        }
      ]
    },
    {
      "cell_type": "code",
      "metadata": {
        "colab": {
          "base_uri": "https://localhost:8080/"
        },
        "id": "Jk4dWRBQNWDL",
        "outputId": "5ac58f35-e0be-45a4-eb50-c99cd7ee440e"
      },
      "source": [
        "q9=\"fruit\"\n",
        "print(q9)"
      ],
      "execution_count": null,
      "outputs": [
        {
          "output_type": "stream",
          "text": [
            "fruit\n"
          ],
          "name": "stdout"
        }
      ]
    },
    {
      "cell_type": "code",
      "metadata": {
        "colab": {
          "base_uri": "https://localhost:8080/",
          "height": 135
        },
        "id": "SOdrgGHKNes1",
        "outputId": "731af845-1b78-4453-f474-e25b3c90091f"
      },
      "source": [
        "2a=4\n",
        "print(2a)"
      ],
      "execution_count": null,
      "outputs": [
        {
          "output_type": "error",
          "ename": "SyntaxError",
          "evalue": "ignored",
          "traceback": [
            "\u001b[0;36m  File \u001b[0;32m\"<ipython-input-14-c12ab4ccfb10>\"\u001b[0;36m, line \u001b[0;32m1\u001b[0m\n\u001b[0;31m    2a=4\u001b[0m\n\u001b[0m     ^\u001b[0m\n\u001b[0;31mSyntaxError\u001b[0m\u001b[0;31m:\u001b[0m invalid syntax\n"
          ]
        }
      ]
    },
    {
      "cell_type": "code",
      "metadata": {
        "colab": {
          "base_uri": "https://localhost:8080/"
        },
        "id": "U3QPtVetNkIA",
        "outputId": "46561c47-de71-479e-a634-37c1871d28eb"
      },
      "source": [
        "_=4\n",
        "print(_)"
      ],
      "execution_count": null,
      "outputs": [
        {
          "output_type": "stream",
          "text": [
            "4\n"
          ],
          "name": "stdout"
        }
      ]
    },
    {
      "cell_type": "code",
      "metadata": {
        "colab": {
          "base_uri": "https://localhost:8080/"
        },
        "id": "yAA2qcSXNq3o",
        "outputId": "940148d5-5940-408a-bfda-e8f06ac8c3b8"
      },
      "source": [
        "a_b=3\n",
        "print(a_b)"
      ],
      "execution_count": null,
      "outputs": [
        {
          "output_type": "stream",
          "text": [
            "3\n"
          ],
          "name": "stdout"
        }
      ]
    },
    {
      "cell_type": "code",
      "metadata": {
        "colab": {
          "base_uri": "https://localhost:8080/",
          "height": 135
        },
        "id": "SIS5ciVXN0yJ",
        "outputId": "a9cd0cb5-ca51-4426-9e17-55bc97b25bf8"
      },
      "source": [
        "a z=\"b\" #hashtag for comment\n",
        "        #invalid\n",
        "print(a z)"
      ],
      "execution_count": null,
      "outputs": [
        {
          "output_type": "error",
          "ename": "SyntaxError",
          "evalue": "ignored",
          "traceback": [
            "\u001b[0;36m  File \u001b[0;32m\"<ipython-input-17-43f9165ca57b>\"\u001b[0;36m, line \u001b[0;32m1\u001b[0m\n\u001b[0;31m    a z=\"b\"\u001b[0m\n\u001b[0m      ^\u001b[0m\n\u001b[0;31mSyntaxError\u001b[0m\u001b[0;31m:\u001b[0m invalid syntax\n"
          ]
        }
      ]
    },
    {
      "cell_type": "code",
      "metadata": {
        "colab": {
          "base_uri": "https://localhost:8080/"
        },
        "id": "1tVeJDFO1lPc",
        "outputId": "32c08bf0-998b-49b9-be8b-1703cd68e4d4"
      },
      "source": [
        "x=input(\"Enter a number:\")\n",
        "print(\"your number is:\",x)"
      ],
      "execution_count": null,
      "outputs": [
        {
          "output_type": "stream",
          "text": [
            "Enter a number:25\n",
            "your number is: 25\n"
          ],
          "name": "stdout"
        }
      ]
    },
    {
      "cell_type": "code",
      "metadata": {
        "colab": {
          "base_uri": "https://localhost:8080/"
        },
        "id": "rR522f0-2C0y",
        "outputId": "6cab237e-2087-4be2-bc1a-3056f0413406"
      },
      "source": [
        "X=input(\"a:\")\n",
        "print(\"your input a is:\",X, sep=' ')   #sep to print space or anything inbetween : and output result of variable"
      ],
      "execution_count": null,
      "outputs": [
        {
          "output_type": "stream",
          "text": [
            "a:6\n",
            "your input a is: 6\n"
          ],
          "name": "stdout"
        }
      ]
    },
    {
      "cell_type": "code",
      "metadata": {
        "colab": {
          "base_uri": "https://localhost:8080/"
        },
        "id": "a_mV52SO3Wgw",
        "outputId": "435fb1c3-e4e6-41f0-9a97-a390a1e03290"
      },
      "source": [
        "#string\n",
        "x=input(\"anything you like:\")\n",
        "print(\"your input is {} - {}\".format(x,\"computer\"))"
      ],
      "execution_count": null,
      "outputs": [
        {
          "output_type": "stream",
          "text": [
            "anything you like:78\n",
            "your input is 78 - computer\n"
          ],
          "name": "stdout"
        }
      ]
    },
    {
      "cell_type": "code",
      "metadata": {
        "colab": {
          "base_uri": "https://localhost:8080/"
        },
        "id": "UdjbkccX4wfg",
        "outputId": "d8f5333a-0031-474e-f4b4-7a88f5ca2209"
      },
      "source": [
        "name=input(\"Enter your name:\")\n",
        "age=input(\"Enter your age:\")\n",
        "\n",
        "print(\"name:{nam}\\nage:{age}\".format(nam=name,age=age))\n"
      ],
      "execution_count": null,
      "outputs": [
        {
          "output_type": "stream",
          "text": [
            "Enter your name:sunil\n",
            "Enter your age:19\n",
            "name:sunil\n",
            "age:19\n"
          ],
          "name": "stdout"
        }
      ]
    }
  ]
}