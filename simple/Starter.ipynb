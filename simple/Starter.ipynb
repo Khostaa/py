{
  "nbformat": 4,
  "nbformat_minor": 0,
  "metadata": {
    "colab": {
      "provenance": []
    },
    "kernelspec": {
      "name": "python3",
      "display_name": "Python 3"
    },
    "language_info": {
      "name": "python"
    }
  },
  "cells": [
    {
      "cell_type": "code",
      "metadata": {
        "id": "7EWi4n_djg-J"
      },
      "source": [],
      "execution_count": null,
      "outputs": []
    },
    {
      "cell_type": "code",
      "metadata": {
        "colab": {
          "base_uri": "https://localhost:8080/"
        },
        "id": "pq37vy76jpAo",
        "outputId": "1dcd9af0-96e6-4593-e3b6-2903e374e36b"
      },
      "source": [
        " Value = \"hello\"    #assigning a string to variable \n",
        " print(Value.capitalize())    #captalizing first letter of string using capatilize()"
      ],
      "execution_count": null,
      "outputs": [
        {
          "output_type": "stream",
          "text": [
            "Hello\n"
          ],
          "name": "stdout"
        }
      ]
    },
    {
      "cell_type": "code",
      "metadata": {
        "colab": {
          "base_uri": "https://localhost:8080/"
        },
        "id": "NRWiXNluksgw",
        "outputId": "553e9ada-757e-409a-a15f-668b5a34ec4b"
      },
      "source": [
        "var = \"Nepal is my contry\"  # assingning string to varible\n",
        "x = var.center(20,\"0\")      # .center() alligns string in between fill argument\n",
        "print(x) \n"
      ],
      "execution_count": null,
      "outputs": [
        {
          "output_type": "stream",
          "text": [
            "0Nepal is my contry0\n"
          ],
          "name": "stdout"
        }
      ]
    },
    {
      "cell_type": "code",
      "metadata": {
        "colab": {
          "base_uri": "https://localhost:8080/"
        },
        "id": "9cnKaCt6nNS1",
        "outputId": "d166fcde-d92e-4fcb-83fb-5694741e01aa"
      },
      "source": [
        "var=\"462351\"       #assingning string to variable\n",
        "print(var.endswith(\"1\"))  #endswith checks the condition whether var ends with asked vaule or not."
      ],
      "execution_count": null,
      "outputs": [
        {
          "output_type": "stream",
          "text": [
            "True\n"
          ],
          "name": "stdout"
        }
      ]
    },
    {
      "cell_type": "code",
      "metadata": {
        "colab": {
          "base_uri": "https://localhost:8080/"
        },
        "id": "Jei4ADH5nzW7",
        "outputId": "ac7b9ab1-cf94-4db8-8438-e19d36c2869f"
      },
      "source": [
        "x=\"234adbd\"    #assigning string to varible\n",
        "print(x.find(\"a\"))   #.find() searches the index of asked value"
      ],
      "execution_count": null,
      "outputs": [
        {
          "output_type": "stream",
          "text": [
            "3\n"
          ],
          "name": "stdout"
        }
      ]
    },
    {
      "cell_type": "code",
      "metadata": {
        "colab": {
          "base_uri": "https://localhost:8080/"
        },
        "id": "TeOvLVuZoMdu",
        "outputId": "a579137c-9ba8-48d7-8e62-a512fd797cba"
      },
      "source": [
        "x= \"{value}\"    #assinging value to variable\n",
        "print(x.format(value=\"7\"))   #.format() fills  in value of x."
      ],
      "execution_count": null,
      "outputs": [
        {
          "output_type": "stream",
          "text": [
            "7\n"
          ],
          "name": "stdout"
        }
      ]
    },
    {
      "cell_type": "code",
      "metadata": {
        "colab": {
          "base_uri": "https://localhost:8080/"
        },
        "id": "KP4PmLeIpUOV",
        "outputId": "ff367d78-58fe-407e-a9b0-b66f114d1ec0"
      },
      "source": [
        "don = \"monkey\"  #assigning string to a variable\n",
        "print(don.index('o'))   #checks index of required data in given string"
      ],
      "execution_count": null,
      "outputs": [
        {
          "output_type": "stream",
          "text": [
            "1\n"
          ],
          "name": "stdout"
        }
      ]
    },
    {
      "cell_type": "code",
      "metadata": {
        "colab": {
          "base_uri": "https://localhost:8080/"
        },
        "id": "yAGZf9ddp0Cw",
        "outputId": "0e129604-1780-461e-9943-84ad51001110"
      },
      "source": [
        "h = \"adgcfd\"  #assigning string to a variable\n",
        "print(h.isalpha())  #checks whether given string contains only alphabet or not"
      ],
      "execution_count": null,
      "outputs": [
        {
          "output_type": "stream",
          "text": [
            "True\n"
          ],
          "name": "stdout"
        }
      ]
    },
    {
      "cell_type": "code",
      "metadata": {
        "colab": {
          "base_uri": "https://localhost:8080/"
        },
        "id": "OiG7SCPtq3nX",
        "outputId": "075d4869-d797-4042-c126-45f9b3bf4f58"
      },
      "source": [
        "y= \"a\"\n",
        "print(y.isidentifier())   #checks whether string is valid identifier or not"
      ],
      "execution_count": null,
      "outputs": [
        {
          "output_type": "stream",
          "text": [
            "True\n"
          ],
          "name": "stdout"
        }
      ]
    },
    {
      "cell_type": "code",
      "metadata": {
        "colab": {
          "base_uri": "https://localhost:8080/"
        },
        "id": "r9ZHqnNrsBF7",
        "outputId": "655165d2-f915-4b0e-9648-c0cdeb499826"
      },
      "source": [
        "char = \"EWW\"\n",
        "print(char.isupper())   #checks whether giver string contains uppercase characters only or not"
      ],
      "execution_count": null,
      "outputs": [
        {
          "output_type": "stream",
          "text": [
            "True\n"
          ],
          "name": "stdout"
        }
      ]
    },
    {
      "cell_type": "code",
      "metadata": {
        "colab": {
          "base_uri": "https://localhost:8080/"
        },
        "id": "6sdjBcYEvh-5",
        "outputId": "4a714efa-aaba-4d72-9140-181ed01a9646"
      },
      "source": [
        "char=\"jpt\"\n",
        "print(char.islower())    #checks whether given string contains only lowercase characters or not"
      ],
      "execution_count": null,
      "outputs": [
        {
          "output_type": "stream",
          "text": [
            "True\n"
          ],
          "name": "stdout"
        }
      ]
    },
    {
      "cell_type": "code",
      "metadata": {
        "colab": {
          "base_uri": "https://localhost:8080/"
        },
        "id": "IDPr6md1vzJ_",
        "outputId": "f8c13afc-e945-477b-b454-8d0ec0142c4b"
      },
      "source": [
        "char=\"abcdef is alphabet\"\n",
        "print(char.rfind(\"a\"))  #finds last index of asked value in given string"
      ],
      "execution_count": null,
      "outputs": [
        {
          "output_type": "stream",
          "text": [
            "15\n"
          ],
          "name": "stdout"
        }
      ]
    },
    {
      "cell_type": "code",
      "metadata": {
        "colab": {
          "base_uri": "https://localhost:8080/"
        },
        "id": "KOM-OyPCw5KF",
        "outputId": "1a0fc99b-df5b-4166-c083-57489a4d2a22"
      },
      "source": [
        "string = \" i love my country \"\n",
        "print(string.rindex(\"o\",1, 15))  #finds last index of asked data in given interval of index"
      ],
      "execution_count": null,
      "outputs": [
        {
          "output_type": "stream",
          "text": [
            "12\n"
          ],
          "name": "stdout"
        }
      ]
    },
    {
      "cell_type": "code",
      "metadata": {
        "colab": {
          "base_uri": "https://localhost:8080/"
        },
        "id": "QF0LEDsTxl6f",
        "outputId": "9bba09dc-f4b9-4b1d-cf73-3c6076b37e15"
      },
      "source": [
        "fruit = \"apple\"\n",
        "fruit = fruit.rjust(10)  #string.rjust(length, character)\n",
        "print(fruit, \"is a fruit\")"
      ],
      "execution_count": null,
      "outputs": [
        {
          "output_type": "stream",
          "text": [
            "     apple is a fruit\n"
          ],
          "name": "stdout"
        }
      ]
    },
    {
      "cell_type": "code",
      "metadata": {
        "colab": {
          "base_uri": "https://localhost:8080/"
        },
        "id": "7fW_Fpq5z-a_",
        "outputId": "4e4f0781-25f9-440c-d37e-42cedca5d6d8"
      },
      "source": [
        "n = \"1 2 3 4\"\n",
        "print(n.split())   #splits given string into required form of list"
      ],
      "execution_count": null,
      "outputs": [
        {
          "output_type": "stream",
          "text": [
            "['1', '2', '3', '4']\n"
          ],
          "name": "stdout"
        }
      ]
    },
    {
      "cell_type": "code",
      "metadata": {
        "colab": {
          "base_uri": "https://localhost:8080/"
        },
        "id": "Lzr2vlhc0ZbB",
        "outputId": "d4c82182-ed35-436a-a341-4393f9a36cdc"
      },
      "source": [
        "n=\"abc\"\n",
        "print(n.upper())       #converts lowercase characters in string to uppercase"
      ],
      "execution_count": null,
      "outputs": [
        {
          "output_type": "stream",
          "text": [
            "ABC\n"
          ],
          "name": "stdout"
        }
      ]
    },
    {
      "cell_type": "markdown",
      "metadata": {
        "id": "VLFd0al4-yhi"
      },
      "source": [
        "B."
      ]
    },
    {
      "cell_type": "code",
      "metadata": {
        "colab": {
          "base_uri": "https://localhost:8080/"
        },
        "id": "Xltueww9460V",
        "outputId": "eba5878c-bf5b-4d3f-b3b4-7f1883ceccb3"
      },
      "source": [
        "list = [\"a\",\"b\",\"c\",\"d\",1,2,5,6]\n",
        "print(list)        #prints list\n",
        "list.append(\"python\")   #adds string to the end of the list\n",
        "print(list)\n",
        "list.clear()    #removers everything from the list\n",
        "print(list)\n"
      ],
      "execution_count": null,
      "outputs": [
        {
          "output_type": "stream",
          "text": [
            "['a', 'b', 'c', 'd', 1, 2, 5, 6]\n",
            "['a', 'b', 'c', 'd', 1, 2, 5, 6, 'python']\n",
            "[]\n"
          ],
          "name": "stdout"
        }
      ]
    },
    {
      "cell_type": "code",
      "metadata": {
        "colab": {
          "base_uri": "https://localhost:8080/"
        },
        "id": "6AHPZE2d57Ic",
        "outputId": "212322b0-b1a4-4876-c5b4-c47e27366c3d"
      },
      "source": [
        "list = [3,5,6,7,\"a\",\"b\",7,4]\n",
        "print(list)\n",
        "x = list.count(7)  #counts no. of particular element in the list\n",
        "print(x) \n",
        "print(list.index(4))   #prints index of particular item of the list\n",
        "list.pop(6)    #removes item with(\"..\") index from the list syntax = pop(index)\n",
        "print(list)    \n",
        "list.remove(4)    #removers ()value from the list  syntax=remove(value)\n",
        "print(list)\n",
        "list.reverse()  #reverses the order of elements in the list i.e. prints from last to first\n",
        "print(list)\n"
      ],
      "execution_count": null,
      "outputs": [
        {
          "output_type": "stream",
          "text": [
            "[3, 5, 6, 7, 'a', 'b', 7, 4]\n",
            "2\n",
            "7\n",
            "[3, 5, 6, 7, 'a', 'b', 4]\n",
            "[3, 5, 6, 7, 'a', 'b']\n",
            "['b', 'a', 7, 6, 5, 3]\n"
          ],
          "name": "stdout"
        }
      ]
    },
    {
      "cell_type": "code",
      "metadata": {
        "colab": {
          "base_uri": "https://localhost:8080/"
        },
        "id": "j1yjhT519x-1",
        "outputId": "dadc6f2e-c03a-4fe9-a9e1-57a7a2a6c391"
      },
      "source": [
        "list= [3,7,5,20,8,2,10]\n",
        "list.sort()  #arranges items of the list in increasing/decreasing/ascending/descending order\n",
        "print(list)"
      ],
      "execution_count": null,
      "outputs": [
        {
          "output_type": "stream",
          "text": [
            "[2, 3, 5, 7, 8, 10, 20]\n"
          ],
          "name": "stdout"
        }
      ]
    },
    {
      "cell_type": "markdown",
      "metadata": {
        "id": "Wy7S4YynJRoM"
      },
      "source": [
        "C."
      ]
    },
    {
      "cell_type": "code",
      "metadata": {
        "colab": {
          "base_uri": "https://localhost:8080/"
        },
        "id": "BdP4mGPlJX2G",
        "outputId": "22cc9dfc-bcf2-439e-d3ad-eac8365d40ce"
      },
      "source": [
        "Fruits = { \"fruit1\": \"apple\"\n",
        ", \"fruit2\":\"Banana\",\n",
        "\"fruit3\": \"grapes\",\n",
        "\"fruit4\":\"coconut\",\n",
        "\"fruit5\":\"oranges\",\n",
        "\"fruit6\":\"watermelon\",\n",
        "\"fruit7\":\"mango\",\n",
        "\"fruit8\":\"litchi\",\n",
        "\"fruit9\":\"papaya\",\n",
        "\"fruit10\":\"strawberry\"}\n",
        "print(Fruits)\n",
        "sorted=Fruits.values()\n",
        "print(sorted)\n",
        "Fruits[\"fruit11\"]=\"pomegranate\"\n",
        "Fruits[\"fruit12\"]=\"Blue berry\"\n",
        "print(Fruits)\n",
        "print(Fruits.get(\"fruit1\"))"
      ],
      "execution_count": null,
      "outputs": [
        {
          "output_type": "stream",
          "text": [
            "{'fruit1': 'apple', 'fruit2': 'Banana', 'fruit3': 'grapes', 'fruit4': 'coconut', 'fruit5': 'oranges', 'fruit6': 'watermelon', 'fruit7': 'mango', 'fruit8': 'litchi', 'fruit9': 'papaya', 'fruit10': 'strawberry'}\n",
            "dict_values(['apple', 'Banana', 'grapes', 'coconut', 'oranges', 'watermelon', 'mango', 'litchi', 'papaya', 'strawberry'])\n",
            "{'fruit1': 'apple', 'fruit2': 'Banana', 'fruit3': 'grapes', 'fruit4': 'coconut', 'fruit5': 'oranges', 'fruit6': 'watermelon', 'fruit7': 'mango', 'fruit8': 'litchi', 'fruit9': 'papaya', 'fruit10': 'strawberry', 'fruit11': 'pomegranate', 'fruit12': 'Blue berry'}\n",
            "apple\n"
          ],
          "name": "stdout"
        }
      ]
    }
  ]
}