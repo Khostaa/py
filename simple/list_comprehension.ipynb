{
  "nbformat": 4,
  "nbformat_minor": 0,
  "metadata": {
    "colab": {
      "provenance": []
    },
    "kernelspec": {
      "name": "python3",
      "display_name": "Python 3"
    },
    "language_info": {
      "name": "python"
    }
  },
  "cells": [
    {
      "cell_type": "code",
      "metadata": {
        "id": "PrHhlzfRcqE4"
      },
      "source": [
        "#list comprehension"
      ],
      "execution_count": null,
      "outputs": []
    },
    {
      "cell_type": "code",
      "metadata": {
        "colab": {
          "base_uri": "https://localhost:8080/"
        },
        "id": "ZBKuVUezc03K",
        "outputId": "1d8e4d7a-d969-4527-ff1e-b6f3b8946fc9"
      },
      "source": [
        "# converting string  into list \n",
        "string=\"Sunil\"\n",
        "list=[]\n",
        "for i in string:\n",
        "  list.append(i)\n",
        "print(list)"
      ],
      "execution_count": null,
      "outputs": [
        {
          "output_type": "stream",
          "text": [
            "['S', 'u', 'n', 'i', 'l']\n"
          ],
          "name": "stdout"
        }
      ]
    },
    {
      "cell_type": "code",
      "metadata": {
        "colab": {
          "base_uri": "https://localhost:8080/"
        },
        "id": "7UOrXG6Dd8dS",
        "outputId": "a9cd28db-de53-4c2c-d157-4b3585639310"
      },
      "source": [
        "#list comprehension\n",
        "string=\"Sunil\"\n",
        "list= [i for i in string] #no statements inside for loop so no ':' required\n",
        "print(list)"
      ],
      "execution_count": null,
      "outputs": [
        {
          "output_type": "stream",
          "text": [
            "['S', 'u', 'n', 'i', 'l']\n"
          ],
          "name": "stdout"
        }
      ]
    },
    {
      "cell_type": "code",
      "metadata": {
        "colab": {
          "base_uri": "https://localhost:8080/"
        },
        "id": "XZUIDw7TfQrE",
        "outputId": "ebcee214-ed75-4b93-e9f3-034819a93439"
      },
      "source": [
        "#list comprehension\n",
        "x=input(\"Enter your string:\")\n",
        "string =[i for i in x if i!=\"s\"]\n",
        "print(string)\n",
        "\n"
      ],
      "execution_count": null,
      "outputs": [
        {
          "output_type": "stream",
          "text": [
            "Enter your string:sunil\n",
            "['u', 'n', 'i', 'l']\n"
          ],
          "name": "stdout"
        }
      ]
    },
    {
      "cell_type": "code",
      "metadata": {
        "colab": {
          "base_uri": "https://localhost:8080/"
        },
        "id": "oOzQnynNggun",
        "outputId": "0cbb09e6-cf0a-4e39-a622-df6b4d3c33e5"
      },
      "source": [
        "x=input(\"Enter your string:\")\n",
        "string=[]\n",
        "for i in x:\n",
        "  if i !=\"s\":\n",
        "    string.append(i)\n",
        "print(string)"
      ],
      "execution_count": null,
      "outputs": [
        {
          "output_type": "stream",
          "text": [
            "Enter your string:sunil\n",
            "['u', 'n', 'i', 'l']\n"
          ],
          "name": "stdout"
        }
      ]
    },
    {
      "cell_type": "code",
      "metadata": {
        "colab": {
          "base_uri": "https://localhost:8080/"
        },
        "id": "IYS780d7il2B",
        "outputId": "5933e031-3e12-4b59-cd53-fd723075f31d"
      },
      "source": [
        "fruits =['apple','ball','cat']\n",
        "for i, item in enumerate(fruits):\n",
        "  print(i,item)"
      ],
      "execution_count": null,
      "outputs": [
        {
          "output_type": "stream",
          "text": [
            "0 apple\n",
            "1 ball\n",
            "2 cat\n"
          ],
          "name": "stdout"
        }
      ]
    },
    {
      "cell_type": "code",
      "metadata": {
        "colab": {
          "base_uri": "https://localhost:8080/"
        },
        "id": "-0KeppXVjn3p",
        "outputId": "dfe48417-fa36-4b25-b0f4-4695aed67e96"
      },
      "source": [
        "fruits =['apple','ball','cat']\n",
        "for i, item in enumerate(fruits,start=1): #start to start from required number.\n",
        "  print(i,item)"
      ],
      "execution_count": null,
      "outputs": [
        {
          "output_type": "stream",
          "text": [
            "1 apple\n",
            "2 ball\n",
            "3 cat\n"
          ],
          "name": "stdout"
        }
      ]
    },
    {
      "cell_type": "markdown",
      "metadata": {
        "id": "5lplIN7upjlw"
      },
      "source": []
    }
  ]
}