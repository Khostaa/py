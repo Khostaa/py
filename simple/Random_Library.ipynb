{
  "cells": [
    {
      "attachments": {},
      "cell_type": "markdown",
      "metadata": {
        "id": "Qa3tr5WIkSVY"
      },
      "source": [
        "Random module"
      ]
    },
    {
      "cell_type": "code",
      "execution_count": null,
      "metadata": {
        "colab": {
          "base_uri": "https://localhost:8080/"
        },
        "id": "0E6qKVo3kXSg",
        "outputId": "a2027798-3464-4748-8e33-ffcada39c300"
      },
      "outputs": [
        {
          "name": "stdout",
          "output_type": "stream",
          "text": [
            "4\n"
          ]
        }
      ],
      "source": [
        "import random\n",
        "a = random.randint(0,10)  #prints random number within the range\n",
        "print(a)"
      ]
    },
    {
      "cell_type": "code",
      "execution_count": null,
      "metadata": {
        "colab": {
          "base_uri": "https://localhost:8080/"
        },
        "id": "1MDwzgVsl1BR",
        "outputId": "0929248c-e2e3-4069-8065-f503a5e56e1b"
      },
      "outputs": [
        {
          "name": "stdout",
          "output_type": "stream",
          "text": [
            "5\n"
          ]
        }
      ],
      "source": [
        "import random\n",
        "string=\"Sunil\"\n",
        "string= random.randint(0,6)\n",
        "print(string)"
      ]
    },
    {
      "cell_type": "code",
      "execution_count": 1,
      "metadata": {
        "colab": {
          "base_uri": "https://localhost:8080/",
          "height": 130
        },
        "id": "TLEopw-nxWSH",
        "outputId": "63bdf43d-7c87-4fff-c166-2d60f09961e1"
      },
      "outputs": [
        {
          "ename": "SyntaxError",
          "evalue": "ignored",
          "output_type": "error",
          "traceback": [
            "\u001b[0;36m  File \u001b[0;32m\"<ipython-input-1-5cce9f276989>\"\u001b[0;36m, line \u001b[0;32m4\u001b[0m\n\u001b[0;31m    syms = ['!','@','#','\\','%','-','+','*','^','&']\u001b[0m\n\u001b[0m                                                    ^\u001b[0m\n\u001b[0;31mSyntaxError\u001b[0m\u001b[0;31m:\u001b[0m EOL while scanning string literal\n"
          ]
        }
      ],
      "source": [
        "#wap that generates a storng password of length 8 of the format\n",
        "chars= ['a','b','c','d','e','f','g','h','i','j']\n",
        "nums = ['1','2','3','4','5','6','7','8','9','0']\n",
        "syms = ['!','@','#','\\','%','-','+','*','^','&']\n",
        "\n",
        "import random\n",
        "password = []\n",
        "new =''\n",
        "for j in range(7):\n",
        "num = random.randint(0,7)\n",
        "pattern = [chars,syms,nums,nums,chars,chars,syms,syms]\n",
        "x = pattern[j][num]\n",
        "if j==0 or j==4:\n",
        "x = x.capitalize()\n",
        "password.append(x)\n",
        "else:\n",
        "password.append(x)\n",
        "for i in password:\n",
        "new = new + i\n",
        "print(new)\n"
      ]
    }
  ],
  "metadata": {
    "colab": {
      "provenance": []
    },
    "kernelspec": {
      "display_name": "Python 3",
      "name": "python3"
    },
    "language_info": {
      "name": "python"
    }
  },
  "nbformat": 4,
  "nbformat_minor": 0
}
