{
  "nbformat": 4,
  "nbformat_minor": 0,
  "metadata": {
    "colab": {
      "provenance": []
    },
    "kernelspec": {
      "name": "python3",
      "display_name": "Python 3"
    },
    "language_info": {
      "name": "python"
    }
  },
  "cells": [
    {
      "cell_type": "code",
      "metadata": {
        "colab": {
          "base_uri": "https://localhost:8080/"
        },
        "id": "bg8uoET8hCiJ",
        "outputId": "c13edf88-abb1-484a-f8b3-d9e41dabb14d"
      },
      "source": [
        "def add(a,b):\n",
        "  return a+b\n",
        "add(5,4)"
      ],
      "execution_count": null,
      "outputs": [
        {
          "output_type": "execute_result",
          "data": {
            "text/plain": [
              "9"
            ]
          },
          "metadata": {
            "tags": []
          },
          "execution_count": 2
        }
      ]
    },
    {
      "cell_type": "code",
      "metadata": {
        "colab": {
          "base_uri": "https://localhost:8080/"
        },
        "id": "EY5vPqGyhJ-8",
        "outputId": "584d30f7-7312-44f5-c220-d07db23744e9"
      },
      "source": [
        "f= lambda a,b:a+b  #reduces upper function and indicated in [2] in single line\n",
        "\n",
        "f(2,5)"
      ],
      "execution_count": null,
      "outputs": [
        {
          "output_type": "execute_result",
          "data": {
            "text/plain": [
              "7"
            ]
          },
          "metadata": {
            "tags": []
          },
          "execution_count": 3
        }
      ]
    },
    {
      "cell_type": "code",
      "metadata": {
        "colab": {
          "base_uri": "https://localhost:8080/"
        },
        "id": "5bzAlTc7hyHa",
        "outputId": "86689fc2-9ac4-4627-cfcb-ed2e422f1dd5"
      },
      "source": [
        "nums=[0,1,2,3,4,5,6,7,8,9]\n",
        "def even_num(n):\n",
        "  return True if n%2!=0 else False\n",
        "\n",
        "odd_num = list(filter(even_num,nums))\n",
        "odd_num"
      ],
      "execution_count": null,
      "outputs": [
        {
          "output_type": "execute_result",
          "data": {
            "text/plain": [
              "[1, 3, 5, 7, 9]"
            ]
          },
          "metadata": {
            "tags": []
          },
          "execution_count": 5
        }
      ]
    },
    {
      "cell_type": "code",
      "metadata": {
        "colab": {
          "base_uri": "https://localhost:8080/"
        },
        "id": "09MX0q0qiRKa",
        "outputId": "1082787f-6996-4d9a-d039-b41989f898af"
      },
      "source": [
        "nums=[1,2,3,4,5,6,7,8,9,0]\n",
        "odd_num =list(filter(lambda n : True if n%2!=0 else False ,nums)) \n",
        "odd_num"
      ],
      "execution_count": null,
      "outputs": [
        {
          "output_type": "execute_result",
          "data": {
            "text/plain": [
              "[1, 3, 5, 7, 9]"
            ]
          },
          "metadata": {
            "tags": []
          },
          "execution_count": 8
        }
      ]
    },
    {
      "cell_type": "code",
      "metadata": {
        "colab": {
          "base_uri": "https://localhost:8080/"
        },
        "id": "mtd4f-UVkzp0",
        "outputId": "1d9ec567-00fa-4d95-c62a-6c38a627ca42"
      },
      "source": [
        "def add_5(n):\n",
        "  return n+5\n",
        "\n",
        "odd_num_5 = list(map(add_5,odd_num))  \n",
        "odd_num_5"
      ],
      "execution_count": null,
      "outputs": [
        {
          "output_type": "execute_result",
          "data": {
            "text/plain": [
              "[6, 8, 10, 12, 14]"
            ]
          },
          "metadata": {
            "tags": []
          },
          "execution_count": 10
        }
      ]
    },
    {
      "cell_type": "code",
      "metadata": {
        "colab": {
          "base_uri": "https://localhost:8080/"
        },
        "id": "TPGI1b1YlJDJ",
        "outputId": "7279f7d0-1f45-48e4-e1a0-8295bd15c4d4"
      },
      "source": [
        "odd = list(map(lambda n:n+5,odd_num))   #5-11 are interrelated.\n",
        "odd"
      ],
      "execution_count": null,
      "outputs": [
        {
          "output_type": "execute_result",
          "data": {
            "text/plain": [
              "[6, 8, 10, 12, 14]"
            ]
          },
          "metadata": {
            "tags": []
          },
          "execution_count": 17
        }
      ]
    },
    {
      "cell_type": "code",
      "metadata": {
        "colab": {
          "base_uri": "https://localhost:8080/"
        },
        "id": "oJq-cSQb2gaC",
        "outputId": "cd588e34-6fd8-4485-e0fd-2fd8e558f03c"
      },
      "source": [
        "from functools import reduce\n",
        "sum= reduce(lambda n,num:num+n,odd)\n",
        "print(sum)"
      ],
      "execution_count": null,
      "outputs": [
        {
          "output_type": "stream",
          "text": [
            "50\n"
          ],
          "name": "stdout"
        }
      ]
    },
    {
      "cell_type": "code",
      "metadata": {
        "colab": {
          "base_uri": "https://localhost:8080/"
        },
        "id": "VgcsDR__5MJK",
        "outputId": "06d08ff9-f94e-4a32-b21b-1759c1ff936a"
      },
      "source": [
        "def fact_num(num):\n",
        "  num_list=[]\n",
        "  for i in range(num,0,-1):\n",
        "    num_list.append(i)\n",
        "  return num_list\n",
        "\n",
        "x=int(input(\"Enter a number to find the factorial: \"))\n",
        "num_list=fact_num(x)\n",
        "print(num_list)\n",
        "\n",
        " #def mul(a,b):\n",
        "    #return a*b\n",
        "  #fact = reduce(mul,num_list)\n",
        "fact= reduce(lambda a,b:a*b,num_list)\n",
        "print(fact)"
      ],
      "execution_count": null,
      "outputs": [
        {
          "output_type": "stream",
          "text": [
            "Enter a number to find the factorial: 5\n",
            "[5, 4, 3, 2, 1]\n",
            "120\n"
          ],
          "name": "stdout"
        }
      ]
    },
    {
      "cell_type": "code",
      "metadata": {
        "colab": {
          "base_uri": "https://localhost:8080/"
        },
        "id": "ngfiWwfYryOB",
        "outputId": "436a8d05-604a-429a-c6ab-fc0d0888d8da"
      },
      "source": [
        "3.\n",
        "# Python code to demonstrate\n",
        "# element removal in list\n",
        "# using filter() + Lambda function\n",
        "  \n",
        "test_list1 = [1, 3, 4, 6, 3]\n",
        "  \n",
        "# Printing initial list\n",
        "print (\"The list before element removal is :\" + str(test_list1))\n",
        "  \n",
        "# using filter() + Lambda function \n",
        "# to remove list element 3\n",
        "test_list1 = list(filter(lambda x: x != 3, test_list1))\n",
        "  \n",
        "# Printing list after removal\n",
        "print (\"The list after element removal is : \" + str(test_list1))\n",
        "\n",
        "\n"
      ],
      "execution_count": null,
      "outputs": [
        {
          "output_type": "stream",
          "text": [
            "The list before element removal is :[1, 3, 4, 6, 3]\n",
            "The list after element removal is : [1, 4, 6]\n"
          ],
          "name": "stdout"
        }
      ]
    }
  ]
}