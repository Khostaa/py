{
  "nbformat": 4,
  "nbformat_minor": 0,
  "metadata": {
    "colab": {
      "provenance": []
    },
    "kernelspec": {
      "name": "python3",
      "display_name": "Python 3"
    },
    "language_info": {
      "name": "python"
    }
  },
  "cells": [
    {
      "cell_type": "code",
      "metadata": {
        "colab": {
          "base_uri": "https://localhost:8080/"
        },
        "id": "yaRkXaFr69st",
        "outputId": "9bcd9631-0c96-4afe-b09c-79756fe68736"
      },
      "source": [
        "# Wap to print this pattern:\n",
        "# 1 1 1 1 1 \n",
        "# 2 2 2 2 \n",
        "# 3 3 3 \n",
        "# 4 4 \n",
        "# 5\n",
        "\n",
        "\n",
        "n=6\n",
        "for i in range (1,6):\n",
        "   for j in range(i,n):\n",
        "     print(i,end=\" \")\n",
        "   print(\"\\n\")\n",
        "i+=1\n",
        "\n"
      ],
      "execution_count": null,
      "outputs": [
        {
          "output_type": "stream",
          "text": [
            "1 1 1 1 1 \n",
            "\n",
            "2 2 2 2 \n",
            "\n",
            "3 3 3 \n",
            "\n",
            "4 4 \n",
            "\n",
            "5 \n",
            "\n"
          ],
          "name": "stdout"
        }
      ]
    },
    {
      "cell_type": "code",
      "metadata": {
        "colab": {
          "base_uri": "https://localhost:8080/"
        },
        "id": "0ZUvunFl-_lF",
        "outputId": "10a80510-29e0-4fbd-cb2c-25c4a47325fa"
      },
      "source": [
        "# Wap to print this pattern:\n",
        "# 0 \n",
        "# 0 1 \n",
        "# 0 2 4 \n",
        "# 0 3 6 9 \n",
        "# 0 4 8 12 16 \n",
        "# 0 5 10 15 20 25 \n",
        "# 0 6 12 18 24 30 36\n",
        "\n",
        "\n",
        "n=7\n",
        "for i in range(0,n):\n",
        "  print(\"0\",end=\" \")\n",
        "  for j in range(1,i+1):\n",
        "    m=i*j\n",
        "    print(m,end=\" \")\n",
        "  j+=1\n",
        "  print(\"\\n\")\n",
        "i+=1"
      ],
      "execution_count": null,
      "outputs": [
        {
          "output_type": "stream",
          "text": [
            "0 \n",
            "\n",
            "0 1 \n",
            "\n",
            "0 2 4 \n",
            "\n",
            "0 3 6 9 \n",
            "\n",
            "0 4 8 12 16 \n",
            "\n",
            "0 5 10 15 20 25 \n",
            "\n",
            "0 6 12 18 24 30 36 \n",
            "\n"
          ],
          "name": "stdout"
        }
      ]
    },
    {
      "cell_type": "markdown",
      "source": [
        " Write a program that allows a customer to submit his or her grocery order. Also, \n",
        "ask if they want to keep ordering, and if they do, continue taking orders until they say \n",
        "no. Make a dictionary with item pricing at first, show the menu at the console and \n",
        "lastly a total cost for the customers to pay.\n"
      ],
      "metadata": {
        "id": "JLSsGASa20Ey"
      }
    },
    {
      "cell_type": "code",
      "metadata": {
        "colab": {
          "base_uri": "https://localhost:8080/"
        },
        "id": "dwf9gQdkGWav",
        "outputId": "1db13f0b-17a6-46ee-d211-2e274f7fdbb7"
      },
      "source": [
        "price={\"noodle\":20,\n",
        "       \"rice\":1700,\n",
        "       \"biscuit\":10,\n",
        "       \"flour\":500,\n",
        "       \"peas\":60,\n",
        "       \"mango\":100,\n",
        "       \"cabbage\":75,\n",
        "       \"cucumber\":50,\n",
        "       \"carrot\":55,\n",
        "       \"lady finger\":45}\n",
        "print(price)\n",
        "m=0\n",
        "selection= \"y\"\n",
        "while(selection==\"y\" or selection==\"Y\"):\n",
        "  x=input(\"Enter an item name to buy:\")\n",
        "  selection=input(\"make your selection(y for yes/ n for no ):\")\n",
        "  m+=price.get(x)\n",
        "\n",
        "t=m\n",
        "print(f\"The total amount is {t}\")\n"
      ],
      "execution_count": null,
      "outputs": [
        {
          "output_type": "stream",
          "text": [
            "{'noodle': 20, 'rice': 1700, 'biscuit': 10, 'flour': 500, 'peas': 60, 'mango': 100, 'cabbage': 75, 'cucumber': 50, 'carrot': 55, 'lady finger': 45}\n"
          ],
          "name": "stdout"
        }
      ]
    },
    {
      "cell_type": "code",
      "metadata": {
        "id": "kK27VX80QJ4M",
        "colab": {
          "base_uri": "https://localhost:8080/"
        },
        "outputId": "21a60d3f-ef65-4404-9f2e-15089d6023c6"
      },
      "source": [
        "# Wap to print this pattern:\n",
        "#        * \n",
        "#       * * \n",
        "#      * * * \n",
        "#     * * * * \n",
        "#    * * * * * \n",
        "#   * * * * * * \n",
        "#  * * * * * * *\n",
        "\n",
        "for i in range(1,8):\n",
        "  for j in range(i,8):\n",
        "    print(\"\",end=\" \")\n",
        "  for j in range(1,i+1):\n",
        "    print(\"*\",end=\" \")\n",
        "\n",
        "  print(\"\\n\")\n",
        "  "
      ],
      "execution_count": null,
      "outputs": [
        {
          "output_type": "stream",
          "text": [
            "       * \n",
            "\n",
            "      * * \n",
            "\n",
            "     * * * \n",
            "\n",
            "    * * * * \n",
            "\n",
            "   * * * * * \n",
            "\n",
            "  * * * * * * \n",
            "\n",
            " * * * * * * * \n",
            "\n"
          ],
          "name": "stdout"
        }
      ]
    }
  ]
}