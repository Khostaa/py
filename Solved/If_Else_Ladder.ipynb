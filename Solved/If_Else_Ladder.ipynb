{
  "nbformat": 4,
  "nbformat_minor": 0,
  "metadata": {
    "colab": {
      "provenance": []
    },
    "kernelspec": {
      "name": "python3",
      "display_name": "Python 3"
    },
    "language_info": {
      "name": "python"
    }
  },
  "cells": [
    {
      "cell_type": "code",
      "metadata": {
        "id": "7gi1H-YfQmRD"
      },
      "source": [
        "x=int(input(\"Enter your age:\"))\n"
      ],
      "execution_count": null,
      "outputs": []
    },
    {
      "cell_type": "markdown",
      "metadata": {
        "id": "l-2GXUNCUoEp"
      },
      "source": [
        "1. Stages of Life: \n",
        "Write an if - elif - else chain that determines a person’s stage of life.Take age as\n",
        "input from user and store it to a variable, and then classify them as baby, toddler, kid, \n",
        "teenager, adult and Elder."
      ]
    },
    {
      "cell_type": "code",
      "metadata": {
        "colab": {
          "base_uri": "https://localhost:8080/"
        },
        "id": "AlhP9cSiSqdE",
        "outputId": "c5108dfe-c93b-4d66-a1e8-372f5cdc62c5"
      },
      "source": [
        "x=float(input(\"Enter your Age:\"))\n",
        "if(x>0 and x<1):\n",
        "  print(\"baby\")\n",
        "elif(x<=1 and x<=3):\n",
        "  print(\"toddler\")\n",
        "elif(x>=4 and x<=12):\n",
        "  print(\"kid\")\n",
        "elif(x>=13 and x<=19):\n",
        "  print(\"teenager\")\n",
        "elif(x>=20 and x<=60):\n",
        "  print(\"adult\")\n",
        "else:\n",
        "  print(\"elder\")"
      ],
      "execution_count": null,
      "outputs": [
        {
          "output_type": "stream",
          "text": [
            "Enter your Age:19\n",
            "teenager\n"
          ],
          "name": "stdout"
        }
      ]
    },
    {
      "cell_type": "markdown",
      "metadata": {
        "id": "RrpCTgLmUqtB"
      },
      "source": [
        "2.  Python program to find the largest number among the three input numbers.\n",
        " Take three different numbers from the user as input and store it. Compare the number \n",
        "with each other using the if/else statement and show the largest number among them."
      ]
    },
    {
      "cell_type": "code",
      "metadata": {
        "colab": {
          "base_uri": "https://localhost:8080/"
        },
        "id": "udoy3wT5Us0N",
        "outputId": "55bef0a3-c97a-4c33-d04e-48ad157d1c38"
      },
      "source": [
        "x=int(input(\"Enter 1st number:\"))\n",
        "y=int(input(\"Enter 2nd number:\"))\n",
        "z=int(input(\"Enter 3rd number:\"))\n",
        "if(x>y and x>z):\n",
        "  print(f\"{x} is greatest\")\n",
        "elif(y>x and y>z):\n",
        "  print(f\"{y} is greatest\")\n",
        "else:\n",
        "  print(f\"{z} is greatest\")"
      ],
      "execution_count": null,
      "outputs": [
        {
          "output_type": "stream",
          "text": [
            "Enter 1st number:56\n",
            "Enter 2nd number:78\n",
            "Enter 3rd number:25\n",
            "78 is greatest\n"
          ],
          "name": "stdout"
        }
      ]
    },
    {
      "cell_type": "markdown",
      "metadata": {
        "id": "yQH0hkwIXSNw"
      },
      "source": [
        "3. A leap year is exactly divisible by 4 except for century years\n",
        "(years ending with 00). The century year is a leap year only if it is perfectly \n",
        "divisible by 400. So write a program in python to determine whether an input \n",
        "taken from user is leap year or not using (if, elif,else,nested if, nested elif, \n",
        "nested else"
      ]
    },
    {
      "cell_type": "code",
      "metadata": {
        "colab": {
          "base_uri": "https://localhost:8080/"
        },
        "id": "NrQkGOUfXUYd",
        "outputId": "00637fe5-6344-41b4-f701-a949aa5ed859"
      },
      "source": [
        "year=int(input(\"Enter a year:\"))\n",
        "if(year%4==0):\n",
        "  if(year%100==0):\n",
        "    if(year%400==0):\n",
        "      print(f\"{year} is a leap year\")\n",
        "    else:\n",
        "      print(f\"{year} is not a leap year\")\n",
        "  else:\n",
        "    print(f\"{year} is a leap year\")\n",
        "else:\n",
        "  print(f\"{year} is not a leap year\")"
      ],
      "execution_count": null,
      "outputs": [
        {
          "output_type": "stream",
          "text": [
            "Enter a year:1800\n",
            "1800 is not a leap year\n"
          ],
          "name": "stdout"
        }
      ]
    }
  ]
}