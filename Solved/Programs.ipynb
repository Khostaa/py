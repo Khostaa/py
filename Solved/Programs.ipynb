{
  "nbformat": 4,
  "nbformat_minor": 0,
  "metadata": {
    "colab": {
      "provenance": []
    },
    "kernelspec": {
      "name": "python3",
      "display_name": "Python 3"
    },
    "language_info": {
      "name": "python"
    }
  },
  "cells": [
    {
      "cell_type": "code",
      "metadata": {
        "colab": {
          "base_uri": "https://localhost:8080/"
        },
        "id": "sWlIcz_t4Biq",
        "outputId": "1ecf5105-4bbf-4260-e9a3-deaffaed1385"
      },
      "source": [
        "# Write a python function to reverse a string\n",
        "string=input(print(\"Enter a string:\"))\n",
        "list = [ i for i in string]\n",
        "list.reverse()\n",
        "string= ''.join(i for i in list)\n",
        "print(string)"
      ],
      "execution_count": null,
      "outputs": [
        {
          "output_type": "stream",
          "text": [
            "Enter a string:\n",
            "sunil\n",
            "linus\n"
          ],
          "name": "stdout"
        }
      ]
    },
    {
      "cell_type": "code",
      "metadata": {
        "colab": {
          "base_uri": "https://localhost:8080/"
        },
        "id": "TClihXz133Jj",
        "outputId": "2b05eff3-9da2-4927-f324-0e9566edf38b"
      },
      "source": [
        "# write a python function that accepts a string and calculates the number of uppercase and lowercase letter.\n",
        "string=input(print(\"Enter a string:\"))\n",
        "count1=0\n",
        "count2=0\n",
        "for i in string:\n",
        "  if(i.islower()):\n",
        "   count1 = count1 + 1\n",
        "  elif(i.isupper()):\n",
        "   count2 = count2 + 1\n",
        "print(\"The number of lowercase letters is:\",end=' ')\n",
        "print(count1)\n",
        "print(\"The number of uppercase letters is:\",end=' ')\n",
        "print(count2)"
      ],
      "execution_count": null,
      "outputs": [
        {
          "output_type": "stream",
          "text": [
            "Enter a string:\n",
            "PYThon\n",
            "The number of lowercase letters is: 3\n",
            "The number of uppercase letters is: 3\n"
          ],
          "name": "stdout"
        }
      ]
    },
    {
      "cell_type": "code",
      "metadata": {
        "colab": {
          "base_uri": "https://localhost:8080/"
        },
        "id": "5gxFrPYNEHMk",
        "outputId": "c1a011dd-9efd-4ce5-e972-b58cb7d67501"
      },
      "source": [
        "#Write a python function that takes a list and return a new list with unique element of first list.\n",
        "list=input(print(\"Enter a list:\"))\n",
        "list=[i for i in list]\n",
        "def f(list):\n",
        "\n",
        "    a=set(list)\n",
        "\n",
        "    print(sorted(a))\n",
        "\n",
        "f(list)\n"
      ],
      "execution_count": null,
      "outputs": [
        {
          "output_type": "stream",
          "text": [
            "Enter a list:\n",
            "122333\n",
            "['1', '2', '3']\n"
          ],
          "name": "stdout"
        }
      ]
    },
    {
      "cell_type": "code",
      "metadata": {
        "colab": {
          "base_uri": "https://localhost:8080/"
        },
        "id": "BWOnx0FlFGP0",
        "outputId": "c405500a-9b36-4694-b082-88cfba9fd759"
      },
      "source": [
        "#Write a python functionn that converts BS to AD and vice-versa.\n",
        "\n",
        "x=input(print(\"Enter 'a' to convert AD to BS  and 'b' to convert BS to AD:\"))\n",
        "y=int(input(print(\"Enter a year to convert:\")))\n",
        "if (x=='a' or x=='A'):\n",
        "  z=y+57\n",
        "  print(f\"{y}AD = {z}BS \")\n",
        "elif (x=='b' or x=='B'):\n",
        "  z=y-57\n",
        "  print(f\"{y}BS = {z}AD \")\n",
        "else:\n",
        "  print(\"Enter a valid alphabet\")\n"
      ],
      "execution_count": null,
      "outputs": [
        {
          "output_type": "stream",
          "text": [
            "Enter 'a' to convert AD to BS  and 'b' to convert BS to AD:\n",
            "b\n",
            "Enter a year to convert:\n",
            "2078\n",
            "2078BS = 2021AD \n"
          ],
          "name": "stdout"
        }
      ]
    }
  ]
}