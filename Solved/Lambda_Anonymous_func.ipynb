{
  "nbformat": 4,
  "nbformat_minor": 0,
  "metadata": {
    "colab": {
      "provenance": []
    },
    "kernelspec": {
      "name": "python3",
      "display_name": "Python 3"
    },
    "language_info": {
      "name": "python"
    }
  },
  "cells": [
    {
      "cell_type": "code",
      "metadata": {
        "colab": {
          "base_uri": "https://localhost:8080/"
        },
        "id": "QVpfOEJHsROD",
        "outputId": "71c2bbc0-7854-4694-cfe8-b2ebb03da81d"
      },
      "source": [
        "#1. Write a Python program to filter a list of integers using Lambda/Anonymous Function as Odd numbers and even numbers.\n",
        "\n",
        "num_list=[0,1,2,3,4,5,6,7,8,9]\n",
        "\n",
        "odd_num=list(filter(lambda n:True if n%2!=0 else False,num_list ))\n",
        "print(odd_num)\n",
        "even_num=list(filter(lambda n:True if n%2 !=1 else False,num_list))\n",
        "print(even_num)"
      ],
      "execution_count": null,
      "outputs": [
        {
          "output_type": "stream",
          "text": [
            "[1, 3, 5, 7, 9]\n",
            "[0, 2, 4, 6, 8]\n"
          ],
          "name": "stdout"
        }
      ]
    },
    {
      "cell_type": "code",
      "metadata": {
        "colab": {
          "base_uri": "https://localhost:8080/"
        },
        "id": "R-Z23EQ6sdEv",
        "outputId": "f0579312-dc95-490f-ad9d-f5fe4e541c8f"
      },
      "source": [
        "#2. Write a Python program to square and cube every number in a given list of integers using Lambda/Anonymous Function.\n",
        "\n",
        "num_list=[1,2,3,4,5]\n",
        "square=list(map(lambda n:n*n,num_list))\n",
        "print(square)\n",
        "cube=list(map(lambda n:n*n*n,num_list))\n",
        "print(cube)"
      ],
      "execution_count": null,
      "outputs": [
        {
          "output_type": "stream",
          "text": [
            "[1, 4, 9, 16, 25]\n",
            "[1, 8, 27, 64, 125]\n"
          ],
          "name": "stdout"
        }
      ]
    },
    {
      "cell_type": "code",
      "metadata": {
        "colab": {
          "base_uri": "https://localhost:8080/"
        },
        "id": "dwIRCkJcsjwV",
        "outputId": "62994eaa-0ac8-452b-bf4f-438a5ddf1d53"
      },
      "source": [
        "#3. Write a Python program to remove specific words from a given list using lambda/anonymous function\n",
        "def remove_words(list1, remove_words):\n",
        "    result = list(filter(lambda word: word not in remove_words, list1))\n",
        "    return result\n",
        "        \n",
        "colors = ['orange', 'red', 'green', 'blue', 'white', 'black']\n",
        "remove_colors = ['orange','black']\n",
        "print(\"Original list:\")\n",
        "print(colors)\n",
        "print(\"\\nRemove words:\")\n",
        "print(remove_colors)\n",
        "print(\"\\nAfter removing the specified words from the said list:\")\n",
        "print(remove_words(colors, remove_colors))\n",
        "\n"
      ],
      "execution_count": null,
      "outputs": [
        {
          "output_type": "stream",
          "text": [
            "Original list:\n",
            "['orange', 'red', 'green', 'blue', 'white', 'black']\n",
            "\n",
            "Remove words:\n",
            "['orange', 'black']\n",
            "\n",
            "After removing the specified words from the said list:\n",
            "['red', 'green', 'blue', 'white']\n"
          ],
          "name": "stdout"
        }
      ]
    },
    {
      "cell_type": "code",
      "metadata": {
        "colab": {
          "base_uri": "https://localhost:8080/"
        },
        "id": "JIjh9abisxL_",
        "outputId": "c3714e42-d293-40b1-a0a9-b40473653a45"
      },
      "source": [
        "#4. Write a Python program to find if a given string starts with a given character using Lambda\n",
        "starts_with = lambda x: True if x.startswith('j') else False\n",
        "print(starts_with('kotlin'))\n",
        "starts_with = lambda x: True if x.startswith('S') else False\n",
        "print(starts_with('Sunil'))\n"
      ],
      "execution_count": null,
      "outputs": [
        {
          "output_type": "stream",
          "text": [
            "False\n",
            "True\n"
          ],
          "name": "stdout"
        }
      ]
    }
  ]
}