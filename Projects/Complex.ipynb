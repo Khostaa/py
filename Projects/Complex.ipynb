{
  "nbformat": 4,
  "nbformat_minor": 0,
  "metadata": {
    "colab": {
      "provenance": []
    },
    "kernelspec": {
      "name": "python3",
      "display_name": "Python 3"
    },
    "language_info": {
      "name": "python"
    }
  },
  "cells": [
    {
      "cell_type": "code",
      "metadata": {
        "colab": {
          "base_uri": "https://localhost:8080/"
        },
        "id": "MEDak0lcDSTk",
        "outputId": "a5c98fb1-3ec8-4916-beec-dfff0f2c9058"
      },
      "source": [
        "import cmath\n",
        "\n",
        "compl_var1= 2+3j\n",
        "var2=3+8j\n",
        "\n",
        "add=compl_var1 + var2\n",
        "\n",
        "print(add)\n",
        "print(type(add))\n",
        "\n",
        "polar_var=cmath.polar(add)\n",
        "print(\"polar form:\",polar_var)\n",
        "\n",
        "#for magnitude\n",
        "print(\"magnitude:\",polar_var[0])\n",
        "\n",
        "#for angle\n",
        "angle=(polar_var[1]*180)/cmath.pi\n",
        "print(\"complex:\",polar_var[1])\n",
        "print(\"angle:\",angle)"
      ],
      "execution_count": null,
      "outputs": [
        {
          "output_type": "stream",
          "text": [
            "(5+11j)\n",
            "<class 'complex'>\n",
            "polar form: (12.083045973594572, 1.1441688336680205)\n",
            "magnitude: 12.083045973594572\n",
            "complex: 1.1441688336680205\n",
            "angle: 65.55604521958347\n"
          ],
          "name": "stdout"
        }
      ]
    }
  ]
}