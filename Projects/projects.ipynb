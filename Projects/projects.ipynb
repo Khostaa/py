{
  "nbformat": 4,
  "nbformat_minor": 5,
  "metadata": {
    "kernelspec": {
      "display_name": "Python 3",
      "language": "python",
      "name": "python3"
    },
    "language_info": {
      "codemirror_mode": {
        "name": "ipython",
        "version": 3
      },
      "file_extension": ".py",
      "mimetype": "text/x-python",
      "name": "python",
      "nbconvert_exporter": "python",
      "pygments_lexer": "ipython3",
      "version": "3.8.5"
    },
    "colab": {
      "provenance": []
    }
  },
  "cells": [
    {
      "cell_type": "code",
      "metadata": {
        "id": "a82d4c14"
      },
      "source": [
        "# WAP in python that generates a difficult pasword of length 8 in the following format [A@12Ab%#]"
      ],
      "id": "a82d4c14",
      "execution_count": null,
      "outputs": []
    },
    {
      "cell_type": "code",
      "metadata": {
        "id": "b103eed1"
      },
      "source": [
        "chars = ['a','b','c','d','e','f','g','h','i','j']\n",
        "nums = ['1','2','3','4','5','6','7','8','9','0']\n",
        "syms = ['!','@','#','$','%','^','&','&','*','_']"
      ],
      "id": "b103eed1",
      "execution_count": null,
      "outputs": []
    },
    {
      "cell_type": "code",
      "metadata": {
        "id": "2a73ce92"
      },
      "source": [
        "\n",
        "import random\n",
        "\n",
        "for j in range(8):\n",
        "    num = random.randint(0,9)\n",
        "    pattern = [chars,syms,nums,nums,chars,chars,syms,syms]\n",
        "    password.append(pattern[j][num])"
      ],
      "id": "2a73ce92",
      "execution_count": null,
      "outputs": []
    },
    {
      "cell_type": "code",
      "metadata": {
        "id": "ee6daa0e"
      },
      "source": [
        "print(password)"
      ],
      "id": "ee6daa0e",
      "execution_count": null,
      "outputs": []
    },
    {
      "cell_type": "code",
      "metadata": {
        "colab": {
          "base_uri": "https://localhost:8080/"
        },
        "id": "d3cfd4a7",
        "outputId": "4d73d130-41f3-44a2-e312-98ada5321c65"
      },
      "source": [
        "chars = ['a','b','c','d','e','f','g','h','i','j']\n",
        "nums = ['1','2','3','4','5','6','7','8','9','0']\n",
        "syms = ['!','@','#','$','%','^','&','&','*','_']\n",
        "import random\n",
        "password = []\n",
        "new = ''\n",
        "for j in range(8):\n",
        "     pattern = [chars,syms,nums,nums,chars,chars,syms,syms]\n",
        "     num = random.randint(0,9)\n",
        "     x = pattern[j][num]\n",
        "     if j == 0 or j == 4 :\n",
        "        x = x.capitalize()\n",
        "        password.append(x)\n",
        "            \n",
        "     else:\n",
        "        password.append(x)\n",
        "             \n",
        "for i in password:\n",
        "    new += i\n",
        "print(new)    "
      ],
      "id": "d3cfd4a7",
      "execution_count": null,
      "outputs": [
        {
          "output_type": "stream",
          "text": [
            "H&25Ed*#\n"
          ],
          "name": "stdout"
        }
      ]
    },
    {
      "cell_type": "code",
      "metadata": {
        "id": "9512ff0e",
        "outputId": "211f3ea8-da85-4f58-ef8c-bc1a0b670991"
      },
      "source": [
        "# WAP in python that lets user to play a simple rock paper scissor game with computer untill user wants to play'\n",
        "\"\"\"\n",
        "\n",
        "Winning Rules as follows :\n",
        "\n",
        "Rock vs paper-> paper wins\n",
        "Rock vs scissor-> Rock wins\n",
        "paper vs scissor-> scissor wins.\n",
        "\n",
        "\n",
        "\"\"\""
      ],
      "id": "9512ff0e",
      "execution_count": null,
      "outputs": [
        {
          "output_type": "execute_result",
          "data": {
            "text/plain": [
              "'\\n\\nWinning Rules as follows :\\n\\nRock vs paper-> paper wins\\nRock vs scissor-> Rock wins\\npaper vs scissor-> scissor wins.\\n\\n\\n'"
            ]
          },
          "metadata": {
            "tags": []
          },
          "execution_count": 65
        }
      ]
    },
    {
      "cell_type": "code",
      "metadata": {
        "id": "04385cf0",
        "outputId": "456f7512-88f3-49fd-fcd1-6392c2256e75"
      },
      "source": [
        "import random\n",
        "\n",
        "choices = ['r','p','s']\n",
        "comp = random.randint(0,2)\n",
        "comp = choices[comp]\n",
        "x = 'y'\n",
        "\n",
        "while (x == 'y'):\n",
        "    \n",
        "    user  = input(\"Choose your move rock(r), paper(p), scissor(s): \")\n",
        "    \n",
        "    if user == comp:\n",
        "        print(f\"Computer Selected {comp} and you selected {user}\")\n",
        "        print(\"It is a draw\")\n",
        "\n",
        "    elif user == 'r':\n",
        "        if comp == 's':\n",
        "            print(f\"Computer Selected {comp} and you selected {user}\")\n",
        "            print(\"You win\")\n",
        "        else:\n",
        "            print(f\"Computer Selected {comp} and you selected {user}\")\n",
        "            print(\"Computer win\")\n",
        "\n",
        "    elif user == 'p':\n",
        "        if comp == 'r':\n",
        "            print(f\"Computer Selected {comp} and you selected {user}\")\n",
        "            print(\"You win\")\n",
        "        else:\n",
        "            print(f\"Computer Selected {comp} and you selected {user}\")\n",
        "            print(\"Computer win\")\n",
        "\n",
        "    elif user == 's':\n",
        "        if comp == 'p':\n",
        "            print(f\"Computer Selected {comp} and you selected {user}\")\n",
        "            print(\"You win\")\n",
        "        else:\n",
        "            print(f\"Computer Selected {comp} and you selected {user}\")\n",
        "            print(\"Computer win\")\n",
        "    x = input(\"Do you want to continue?(y/n): \")\n",
        "        "
      ],
      "id": "04385cf0",
      "execution_count": null,
      "outputs": [
        {
          "output_type": "stream",
          "text": [
            "Choose your move rock(r), paper(p), scissor(s): s\n",
            "Computer Selected r and you selected s\n",
            "Computer win\n",
            "Do you want to continue?(y/n): y\n",
            "Choose your move rock(r), paper(p), scissor(s): s\n",
            "Computer Selected r and you selected s\n",
            "Computer win\n",
            "Do you want to continue?(y/n): n\n"
          ],
          "name": "stdout"
        }
      ]
    },
    {
      "cell_type": "code",
      "metadata": {
        "id": "05eca36f",
        "outputId": "30772b46-ff84-42ba-fae1-2f8db75da7a3"
      },
      "source": [
        "# WAP to allow user to play hangman with the computer \n",
        "\"\"\"\n",
        "Allow computer to generate random word of length 5\n",
        "let the user have 8 turns \n",
        "if the user is unable to predict the word in 8 turns declare loser\n",
        "\"\"\""
      ],
      "id": "05eca36f",
      "execution_count": null,
      "outputs": [
        {
          "output_type": "execute_result",
          "data": {
            "text/plain": [
              "'\\nAllow computer to generate random word of length 5\\nlet the user have 8 turns \\nif the user is unable to predict the word in 8 turns declare loser\\n'"
            ]
          },
          "metadata": {
            "tags": []
          },
          "execution_count": 75
        }
      ]
    },
    {
      "cell_type": "code",
      "metadata": {
        "id": "c443e015",
        "outputId": "cf669643-50b8-4cc5-aa89-ffe69b145e3e"
      },
      "source": [
        "import random\n",
        "import string\n",
        "word = []\n",
        "ans = ['_','_','_','_','_']\n",
        "turns = 8\n",
        "for i in range(5):\n",
        "    x = random.choice(string.ascii_letters)\n",
        "    word.append(x)\n",
        "print(word)\n",
        "\n",
        "while turns!= 0:\n",
        "    choice  = input(\"Select any letter: \")\n",
        "    if choice in word:\n",
        "        index = word.index(choice)\n",
        "        ans[index] = choice\n",
        "        print(ans)\n",
        "        print(f\"Congratulations! You have {turns} chances left.\")\n",
        "        print('\\n')\n",
        "    else:\n",
        "        turns -= 1\n",
        "        print(f\"Sorry,Wrong Choice. You have {turns} chances left.\")\n",
        "        print('\\n')\n",
        "        \n",
        "    if turns == 0:\n",
        "        print(\"Sorry, You lost the game\")\n",
        "        \n",
        "    elif turns != 0 and ans == word:\n",
        "        print(\"Congratulations! You won the game\")\n",
        "        break\n"
      ],
      "id": "c443e015",
      "execution_count": null,
      "outputs": [
        {
          "output_type": "stream",
          "text": [
            "['L', 'c', 'M', 'F', 'C']\n",
            "Select any letter: l\n",
            "Sorry,Wrong Choice. You have 7 chances left.\n",
            "\n",
            "\n",
            "Select any letter: L\n",
            "['L', '_', '_', '_', '_']\n",
            "Congratulations! You have 7 chances left.\n",
            "\n",
            "\n",
            "Select any letter: f\n",
            "Sorry,Wrong Choice. You have 6 chances left.\n",
            "\n",
            "\n",
            "Select any letter: F\n",
            "['L', '_', '_', 'F', '_']\n",
            "Congratulations! You have 6 chances left.\n",
            "\n",
            "\n"
          ],
          "name": "stdout"
        }
      ]
    },
    {
      "cell_type": "code",
      "metadata": {
        "id": "7a74fd32",
        "outputId": "9f74ffe4-ec80-402c-b026-034d89204430"
      },
      "source": [
        "x = [1,2,3,4,50]\n",
        "x.index(1)"
      ],
      "id": "7a74fd32",
      "execution_count": null,
      "outputs": [
        {
          "output_type": "execute_result",
          "data": {
            "text/plain": [
              "0"
            ]
          },
          "metadata": {
            "tags": []
          },
          "execution_count": 12
        }
      ]
    },
    {
      "cell_type": "code",
      "metadata": {
        "id": "900ee0ea"
      },
      "source": [],
      "id": "900ee0ea",
      "execution_count": null,
      "outputs": []
    }
  ]
}