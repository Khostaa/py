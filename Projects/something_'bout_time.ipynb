{
  "nbformat": 4,
  "nbformat_minor": 0,
  "metadata": {
    "colab": {
      "provenance": []
    },
    "kernelspec": {
      "name": "python3",
      "display_name": "Python 3"
    },
    "language_info": {
      "name": "python"
    }
  },
  "cells": [
    {
      "cell_type": "code",
      "metadata": {
        "colab": {
          "base_uri": "https://localhost:8080/"
        },
        "id": "rKy77SKMS4Cr",
        "outputId": "6a796757-d5a6-4500-b8c5-27fea921d395"
      },
      "source": [
        "import time\n",
        "fav_num=17\n",
        "user_input=int(input(\"Enter a number between 15 and 25:\"))\n",
        "if user_input== fav_num:\n",
        "  print(\"processing...\")\n",
        "  time.sleep(5)\n",
        "  print(\"you won\")\n",
        "  print(\"thankyou for playing\")\n",
        "else:\n",
        "  if user_input>=25:\n",
        "    print(\"processing...\")\n",
        "    time.sleep(5)\n",
        "    print(\"your number is high\")\n",
        "    print(\"thankyou for playing\")\n",
        "\n",
        "  elif user_input<=15:\n",
        "    print(\"processing...\")\n",
        "    time.sleep(5)\n",
        "    print(\"your number is low\")\n",
        "    print(\"Thankyou for playing\")"
      ],
      "execution_count": null,
      "outputs": [
        {
          "output_type": "stream",
          "text": [
            "Enter a number between 15 and 25:17\n",
            "processing...\n",
            "you won\n",
            "thankyou for playing\n"
          ],
          "name": "stdout"
        }
      ]
    }
  ]
}