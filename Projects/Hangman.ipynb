{
  "nbformat": 4,
  "nbformat_minor": 0,
  "metadata": {
    "colab": {
      "provenance": []
    },
    "kernelspec": {
      "name": "python3",
      "display_name": "Python 3"
    },
    "language_info": {
      "name": "python"
    }
  },
  "cells": [
    {
      "cell_type": "code",
      "metadata": {
        "colab": {
          "base_uri": "https://localhost:8080/"
        },
        "id": "8Y61F-n_QLMy",
        "outputId": "5b5b56a1-2c77-4be4-d288-4779b0715fef"
      },
      "source": [
        "import random\n",
        "import string\n",
        "word=[]\n",
        "turns = 8\n",
        "ans=['_','_','_','_','_']\n",
        "for i in range(5):\n",
        "  x=random.choice(string.ascii_letters)\n",
        "  word.append(x)\n",
        "print(word)\n",
        "while turns!=0:\n",
        "  choice=input(\"select any letter: \")\n",
        "  if choice in word:\n",
        "    index =word.index(choice)\n",
        "    ans[index]=choice\n",
        "    print(f\"congratulations! you have {turns} chances left.\")\n",
        "    print('\\n')\n",
        "    print(ans)\n",
        "  else:\n",
        "    turns =turns-1\n",
        "    print(f\"sorry! you have {turns} chances left.\")\n",
        "\n",
        "  if turns==0:\n",
        "    print(\"sorry! you lost the game\")\n",
        "\n",
        "  elif turns!=0 and ans==word:\n",
        "    print(\"congo! you won\")\n",
        "    break\n"
      ],
      "execution_count": null,
      "outputs": [
        {
          "output_type": "stream",
          "text": [
            "['o', 'y', 'c', 'S', 'K']\n"
          ],
          "name": "stdout"
        }
      ]
    }
  ]
}