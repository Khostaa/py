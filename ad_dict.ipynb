{
  "nbformat": 4,
  "nbformat_minor": 0,
  "metadata": {
    "colab": {
      "provenance": []
    },
    "kernelspec": {
      "name": "python3",
      "display_name": "Python 3"
    },
    "language_info": {
      "name": "python"
    }
  },
  "cells": [
    {
      "cell_type": "code",
      "metadata": {
        "colab": {
          "base_uri": "https://localhost:8080/"
        },
        "id": "Gkv5P9a02IuJ",
        "outputId": "64458205-03f3-4fcc-b0a2-58764daa501b"
      },
      "source": [
        "dict={}\n",
        "list = [1,2,3,4,5,6]\n",
        "char = ['A','B','C','D','E','F']\n",
        "for i in range(len(list)):\n",
        "  dict.update({list[i]:char[i]})\n",
        "print(dict)"
      ],
      "execution_count": null,
      "outputs": [
        {
          "output_type": "stream",
          "text": [
            "{1: 'A', 2: 'B', 3: 'C', 4: 'D', 5: 'E', 6: 'F'}\n"
          ],
          "name": "stdout"
        }
      ]
    }
  ]
}