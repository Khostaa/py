{
  "cells": [
    {
      "cell_type": "code",
      "execution_count": null,
      "metadata": {
        "colab": {
          "base_uri": "https://localhost:8080/",
          "height": 35
        },
        "id": "_m5U4lbxvF0F",
        "outputId": "9afa4e04-a06c-4e8b-a9bb-06b263eeaa73"
      },
      "outputs": [
        {
          "data": {
            "application/vnd.google.colaboratory.intrinsic+json": {
              "type": "string"
            },
            "text/plain": [
              "'buddha'"
            ]
          },
          "execution_count": 1,
          "metadata": {
            "tags": []
          },
          "output_type": "execute_result"
        }
      ],
      "source": [
        "#string\n",
        "\"nepal\"\n",
        "'buddha'\n",
        "#these are single line string"
      ]
    },
    {
      "cell_type": "code",
      "execution_count": null,
      "metadata": {
        "colab": {
          "base_uri": "https://localhost:8080/"
        },
        "id": "7SbkdA2XTo6w",
        "outputId": "8a70a535-d201-4bcc-faaf-5ab542a3e195"
      },
      "outputs": [
        {
          "name": "stdout",
          "output_type": "stream",
          "text": [
            " nepal is beautiful country where \n",
            "      mount everest lies\n"
          ]
        }
      ],
      "source": [
        "# use \"\"\"\"....\"\"\" or '''...''' for multiple line string\n",
        "#example\n",
        "x=\"\"\" nepal is beautiful country where \n",
        "      mount everest lies\"\"\"\n",
        "print(x)"
      ]
    },
    {
      "cell_type": "code",
      "execution_count": null,
      "metadata": {
        "id": "yOx0inWETrhA"
      },
      "outputs": [],
      "source": [
        "#indexing\n",
        "\"\"\" means assigning a value to each character in an string.\n",
        "    starting from 0 to ... in positive indexing and \n",
        "    starting from -1 from end in negative indexing \"\"\"\n",
        "\n",
        "   "
      ]
    }
  ],
  "metadata": {
    "colab": {
      "provenance": []
    },
    "kernelspec": {
      "display_name": "Python 3",
      "name": "python3"
    },
    "language_info": {
      "name": "python"
    }
  },
  "nbformat": 4,
  "nbformat_minor": 0
}